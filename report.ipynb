{
  "cells": [
    {
      "cell_type": "markdown",
      "metadata": {
        "id": "4-ZojrXr9JX7"
      },
      "source": [
        "**Выполнили:**\n",
        "1. Назаров Захар, взвод 2231\n",
        "2. Ковтун Данила, взвод 2231"
      ]
    },
    {
      "cell_type": "markdown",
      "metadata": {
        "id": "wK6AW-nJ7MPW"
      },
      "source": [
        "*Вариант  №5*\n",
        "\n",
        "Постановка задачи: Требуется разработать и программно реализовать учебную систему электронной подписи (ЭП) на основе следующих криптографических алгоритмов:   \n",
        "1. Алгоритмы формирования и проверки ЭП в соотвествии с ГОСТ Р 34.10-2012\n",
        "2. Хеш-функция SHA3-256 (из семейства SHA-3)"
      ]
    },
    {
      "cell_type": "markdown",
      "metadata": {
        "id": "MzSZ2Q6u8Abg"
      },
      "source": [
        "1. Алгоритмы формирования и проверки ЭП в соотвествии с ГОСТ Р 34.10-2012:"
      ]
    },
    {
      "cell_type": "code",
      "execution_count": null,
      "metadata": {
        "colab": {
          "base_uri": "https://localhost:8080/"
        },
        "id": "r9BMWKDD5zZn",
        "outputId": "b4c41663-f02b-4153-b1c0-6b9c9d960cfc"
      },
      "outputs": [
        {
          "name": "stdout",
          "output_type": "stream",
          "text": [
            "Signature: (34038822138703512972988734531555098211677422537936190640344790378030648515560, 29791627309821975359537861315555384767276112132205996204648096188272251648667)\n",
            "Is signature valid? True\n"
          ]
        }
      ],
      "source": [
        "import random\n",
        "from tinyec import registry\n",
        "from gostcrypto import gosthash\n",
        "\n",
        "# получаем хеш на основе алгритма стрибог \n",
        "def gost_hash(data_):\n",
        "    return gosthash.new('streebog256', data=data_).digest()\n",
        "\n",
        "def int_from_hash(data):\n",
        "    return int.from_bytes(data, byteorder='big')\n",
        "\n",
        "# генерируем пару ключей\n",
        "def generate_key_pair(curve):\n",
        "    private_key = random.randint(1, curve.field.n - 1)\n",
        "    public_key = private_key * curve.g\n",
        "    return private_key, public_key\n",
        "\n",
        "# подписываем данные\n",
        "def sign_data(curve, private_key, data):\n",
        "    e = int_from_hash(gost_hash(data)) % curve.field.n\n",
        "    while True:\n",
        "        k = random.randint(1, curve.field.n - 1)\n",
        "        r = (k * curve.g).x % curve.field.n\n",
        "        if r == 0:\n",
        "            continue\n",
        "        s = (private_key * r - k * e) % curve.field.n\n",
        "        if s == 0:\n",
        "            continue\n",
        "        return r, s\n",
        "\n",
        "# проверяем подпись\n",
        "def verify_signature(curve, public_key, data, signature):\n",
        "    r, s = signature\n",
        "    e = int_from_hash(gost_hash(data)) % curve.field.n\n",
        "    v = pow(e, -1, curve.field.n)\n",
        "    z1 = (s * v) % curve.field.n\n",
        "    z2 = (-r * v) % curve.field.n\n",
        "    R = z1 * curve.g + z2 * public_key\n",
        "    return R.x % curve.field.n == r\n",
        "\n",
        "def main():\n",
        "    curve = registry.get_curve(\"brainpoolP256r1\")\n",
        "    data = b'Test message for digital signature'\n",
        "    private_key, public_key = generate_key_pair(curve)\n",
        "    signature = sign_data(curve, private_key, data)\n",
        "    print(f'Signature: {signature}')\n",
        "    is_valid = verify_signature(curve, public_key, data, signature)\n",
        "    print(f'Is signature valid? {is_valid}')\n",
        "\n",
        "if __name__ == '__main__':\n",
        "    main()"
      ]
    },
    {
      "attachments": {},
      "cell_type": "markdown",
      "metadata": {},
      "source": [
        "2. Хеш-функция SHA3-256 (из семейства SHA-3)"
      ]
    },
    {
      "cell_type": "code",
      "execution_count": 3,
      "metadata": {
        "id": "o8ICOLr06DuQ"
      },
      "outputs": [],
      "source": [
        "from sha3_256 import sha3_256"
      ]
    },
    {
      "attachments": {},
      "cell_type": "markdown",
      "metadata": {},
      "source": [
        "Функция хэша реализована в директории sha3-256 на языке Си\n",
        "Для использования в окружении питон написана python-функция, вызывающая бинарный файл sha3-test на языке си и возвращающая хэш вызванного слова\n",
        "\n",
        "Пример использования представлен ниже"
      ]
    },
    {
      "cell_type": "code",
      "execution_count": 4,
      "metadata": {},
      "outputs": [
        {
          "data": {
            "text/plain": [
              "'cd1984b144233807c63bcac47a053408ef4eeadb17854077d8ba5942c6a2b846'"
            ]
          },
          "execution_count": 4,
          "metadata": {},
          "output_type": "execute_result"
        }
      ],
      "source": [
        "sha3_256('qq')"
      ]
    }
  ],
  "metadata": {
    "colab": {
      "provenance": []
    },
    "kernelspec": {
      "display_name": "Python 3",
      "name": "python3"
    },
    "language_info": {
      "codemirror_mode": {
        "name": "ipython",
        "version": 3
      },
      "file_extension": ".py",
      "mimetype": "text/x-python",
      "name": "python",
      "nbconvert_exporter": "python",
      "pygments_lexer": "ipython3",
      "version": "3.10.6"
    }
  },
  "nbformat": 4,
  "nbformat_minor": 0
}
